{
 "cells": [
  {
   "cell_type": "code",
   "execution_count": 1,
   "metadata": {},
   "outputs": [],
   "source": [
    "import cv2\n",
    "import numpy as np\n",
    "import os\n",
    "import yaml\n",
    "from yaml.loader import SafeLoader"
   ]
  },
  {
   "cell_type": "code",
   "execution_count": 2,
   "metadata": {},
   "outputs": [
    {
     "name": "stdout",
     "output_type": "stream",
     "text": [
      "['Test Name', 'Value', 'Units', 'Reference Range']\n"
     ]
    }
   ],
   "source": [
    "# Load the YAML configuration file containing class labels\n",
    "with open('data.yaml', mode='r') as f:\n",
    "    data_yaml = yaml.load(f, Loader=SafeLoader)\n",
    "\n",
    "# Extract the list of class labels from the YAML file\n",
    "labels = data_yaml['names']\n",
    "print(labels)"
   ]
  },
  {
   "cell_type": "code",
   "execution_count": 3,
   "metadata": {},
   "outputs": [],
   "source": [
    "# Load the YOLO model from an ONNX file\n",
    "yolo = cv2.dnn.readNetFromONNX('./Model/weights/best.onnx')\n",
    "\n",
    "# Set backend to OpenCV and specify that computations will run on the CPU\n",
    "yolo.setPreferableBackend(cv2.dnn.DNN_BACKEND_OPENCV)\n",
    "yolo.setPreferableTarget(cv2.dnn.DNN_TARGET_CPU)"
   ]
  },
  {
   "cell_type": "code",
   "execution_count": 4,
   "metadata": {},
   "outputs": [],
   "source": [
    "# Load the image to be analyzed\n",
    "img = cv2.imread('./thyrocare_0_421.jpg')\n",
    "image = img.copy()  # Create a copy of the original image for drawing predictions\n",
    "row, col, d = image.shape  # Get the image dimensions\n",
    "\n",
    "# Resize the image to a square, as YOLO typically expects a square input\n",
    "max_rc = max(row, col)  # Get the larger dimension (either row or col)\n",
    "input_image = np.zeros((max_rc, max_rc, 3), dtype=np.uint8)  # Create a square black canvas\n",
    "input_image[0:row, 0:col] = image  # Place the original image in the square canvas\n",
    "\n",
    "# Convert the image into a blob (a preprocessed array format used by YOLO)\n",
    "input_width_yolo = 640  # YOLO input image size (640x640 is a typical input size)\n",
    "blob = cv2.dnn.blobFromImage(input_image, 1/255, (input_width_yolo, input_width_yolo), swapRB=True, crop=False)\n",
    "\n",
    "# Set the input for YOLO and run forward pass to get predictions\n",
    "yolo.setInput(blob)\n",
    "predictions = yolo.forward()  # Get the raw predictions from YOLO model"
   ]
  },
  {
   "cell_type": "code",
   "execution_count": 5,
   "metadata": {},
   "outputs": [
    {
     "name": "stdout",
     "output_type": "stream",
     "text": [
      "(1, 25200, 9)\n"
     ]
    }
   ],
   "source": [
    "print(predictions.shape)  # Print the shape of the predictions (useful for debugging)"
   ]
  },
  {
   "cell_type": "code",
   "execution_count": 6,
   "metadata": {},
   "outputs": [],
   "source": [
    "# Non-Maximum Suppression (NMS) and confidence filtering\n",
    "# Filter predictions based on confidence threshold (0.4) and class probability threshold (0.25)\n",
    "detections = predictions[0]\n",
    "boxes = []          # List to store the bounding box coordinates\n",
    "confidences = []    # List to store the confidence scores\n",
    "classes = []        # List to store the class IDs\n",
    "cropped_images = []    # To store cropped images of detected regions\n",
    "\n",
    "# Get the width and height of the input image\n",
    "image_w, image_h = input_image.shape[:2]\n",
    "x_factor = image_w / input_width_yolo  # Scaling factor for x dimension\n",
    "y_factor = image_h / input_width_yolo  # Scaling factor for y dimension\n",
    "\n",
    "# Iterate over each detection to filter out low confidence ones\n",
    "for i in range(len(detections)):\n",
    "    row = detections[i]\n",
    "    confidence = row[4]  # Confidence of detecting an object\n",
    "    if confidence > 0.4:  # Only consider detections with confidence > 0.4\n",
    "        class_score = row[5:].max()  # Maximum class probability score\n",
    "        class_id = row[5:].argmax()  # ID of the class with the highest probability\n",
    "\n",
    "        if class_score > 0.25:  # Consider class predictions with score > 0.25\n",
    "            # Extract the bounding box parameters (center x, center y, width, height)\n",
    "            cx, cy, w, h = row[0:4]\n",
    "\n",
    "            # Convert to bounding box format (top-left corner and width/height)\n",
    "            left = int((cx - 0.5 * w) * x_factor)\n",
    "            top = int((cy - 0.5 * h) * y_factor)\n",
    "            width = int(w * x_factor)\n",
    "            height = int(h * y_factor)\n",
    "\n",
    "            # Append the bounding box, confidence score, and class ID to their respective lists\n",
    "            box = np.array([left, top, width, height])\n",
    "            confidences.append(confidence)\n",
    "            boxes.append(box)\n",
    "            classes.append(class_id)\n",
    "\n",
    "# Convert the list of bounding boxes and confidences to NumPy arrays for NMS\n",
    "boxes_np = np.array(boxes).tolist()\n",
    "confidences_np = np.array(confidences).tolist()\n",
    "\n",
    "# Perform Non-Maximum Suppression to eliminate overlapping boxes\n",
    "# Keeps the box with the highest confidence and removes others with an IoU overlap > 0.45\n",
    "index = cv2.dnn.NMSBoxes(boxes_np, confidences_np, 0.25, 0.45).flatten()"
   ]
  },
  {
   "cell_type": "code",
   "execution_count": 7,
   "metadata": {},
   "outputs": [
    {
     "name": "stdout",
     "output_type": "stream",
     "text": [
      "Reference Range: 88%\n",
      "Value: 85%\n",
      "Test Name: 79%\n",
      "Units: 76%\n"
     ]
    }
   ],
   "source": [
    "# Draw the bounding boxes and labels on the image\n",
    "for ind in index:\n",
    "    # Extract the bounding box coordinates\n",
    "    x, y, w, h = boxes_np[ind]\n",
    "    bb_conf = int(confidences_np[ind] * 100)  # Scale the confidence to percentage\n",
    "    classes_id = classes[ind]  # Get the class ID for this detection\n",
    "    class_name = labels[classes_id]  # Get the corresponding class name\n",
    "\n",
    "    # Create the label text (e.g., 'Test Name: 98%')\n",
    "    text = f'{class_name}: {bb_conf}%'\n",
    "    print(text)  # Print the label and confidence score to the console\n",
    "\n",
    "    # Draw the bounding box on the image (green rectangle)\n",
    "    cv2.rectangle(image, (x, y), (x + w, y + h), (0, 255, 0), 2)\n",
    "\n",
    "    # Draw a filled rectangle for the label background (white box)\n",
    "    cv2.rectangle(image, (x, y - 30), (x + w, y), (255, 255, 255), -1)\n",
    "\n",
    "    # Add the label text on top of the rectangle (black text)\n",
    "    cv2.putText(image, text, (x, y - 10), cv2.FONT_HERSHEY_PLAIN, 0.7, (0, 0, 0), 1)"
   ]
  },
  {
   "cell_type": "code",
   "execution_count": 8,
   "metadata": {},
   "outputs": [],
   "source": [
    "# Display the original and prediction images in separate windows\n",
    "cv2.imshow('original', img)\n",
    "cv2.imshow('yolo_prediction', image)\n",
    "cv2.waitKey(0)  # Wait for a key press to close the windows\n",
    "cv2.destroyAllWindows()  # Close all OpenCV windows"
   ]
  }
 ],
 "metadata": {
  "kernelspec": {
   "display_name": "yolo_venv",
   "language": "python",
   "name": "python3"
  },
  "language_info": {
   "codemirror_mode": {
    "name": "ipython",
    "version": 3
   },
   "file_extension": ".py",
   "mimetype": "text/x-python",
   "name": "python",
   "nbconvert_exporter": "python",
   "pygments_lexer": "ipython3",
   "version": "3.12.6"
  }
 },
 "nbformat": 4,
 "nbformat_minor": 2
}
